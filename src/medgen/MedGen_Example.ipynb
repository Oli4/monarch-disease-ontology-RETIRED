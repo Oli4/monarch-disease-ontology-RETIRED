{
 "cells": [
  {
   "cell_type": "markdown",
   "metadata": {},
   "source": [
    "# MedGen Exploration\n",
    "\n",
    "Here we show exploration of MedGen using the ontobio lib. In particular we are examining\n",
    "\n",
    " - loops within MedGen (caused by the source UMLS which is extended)\n",
    " - singletons in MedGen (i.e. nodes that are not placed in a hierarchy, particularly mendelian disease nodes)\n",
    "\n",
    "For this analysis we use a cut of medgen preserving only Disease-or-Syndrome + Neoplastic subsets subsets. See the Makefile for details.\n",
    "\n",
    "**TODO**: rerun with latest medgen"
   ]
  },
  {
   "cell_type": "code",
   "execution_count": 1,
   "metadata": {
    "collapsed": true
   },
   "outputs": [],
   "source": [
    "# setup ontology factory\n",
    "from ontobio.ontol_factory import OntologyFactory\n"
   ]
  },
  {
   "cell_type": "code",
   "execution_count": 2,
   "metadata": {
    "collapsed": true
   },
   "outputs": [],
   "source": [
    "## Create an ontology factory and load the Disease-or-Syndrome + Neoplastic subsets\n",
    "ofactory = OntologyFactory()\n",
    "ont = ofactory.create(\"medgen-disease-extract.json\")"
   ]
  },
  {
   "cell_type": "code",
   "execution_count": 4,
   "metadata": {},
   "outputs": [
    {
     "data": {
      "text/plain": [
       "113450"
      ]
     },
     "execution_count": 4,
     "metadata": {},
     "output_type": "execute_result"
    }
   ],
   "source": [
    "## number of classes in medgen\n",
    "len(ont.nodes())"
   ]
  },
  {
   "cell_type": "code",
   "execution_count": 5,
   "metadata": {},
   "outputs": [
    {
     "data": {
      "text/plain": [
       "['http://purl.obolibrary.org/obo/UMLS_C0267771',\n",
       " 'http://purl.obolibrary.org/obo/UMLS_C1290542',\n",
       " 'http://purl.obolibrary.org/obo/UMLS_C4227763',\n",
       " 'http://purl.obolibrary.org/obo/UMLS_CN227583',\n",
       " 'http://purl.obolibrary.org/obo/UMLS_CN200190',\n",
       " 'http://purl.obolibrary.org/obo/UMLS_C1857040',\n",
       " 'http://purl.obolibrary.org/obo/UMLS_C1298000',\n",
       " 'http://purl.obolibrary.org/obo/UMLS_C2751292',\n",
       " 'http://purl.obolibrary.org/obo/UMLS_C1858273',\n",
       " 'http://purl.obolibrary.org/obo/UMLS_C1848918',\n",
       " 'http://purl.obolibrary.org/obo/UMLS_C0263580',\n",
       " 'http://purl.obolibrary.org/obo/UMLS_C0406325',\n",
       " 'http://purl.obolibrary.org/obo/UMLS_C3806334',\n",
       " 'http://purl.obolibrary.org/obo/UMLS_C0346597',\n",
       " 'http://purl.obolibrary.org/obo/UMLS_C0267429',\n",
       " 'http://purl.obolibrary.org/obo/UMLS_C1283807',\n",
       " 'http://purl.obolibrary.org/obo/UMLS_C1333957',\n",
       " 'http://purl.obolibrary.org/obo/UMLS_C1859402',\n",
       " 'http://purl.obolibrary.org/obo/UMLS_C1517392',\n",
       " 'http://purl.obolibrary.org/obo/UMLS_C4081754']"
      ]
     },
     "execution_count": 5,
     "metadata": {},
     "output_type": "execute_result"
    }
   ],
   "source": [
    "ont.nodes()[0:20]"
   ]
  },
  {
   "cell_type": "code",
   "execution_count": 6,
   "metadata": {
    "collapsed": true
   },
   "outputs": [],
   "source": [
    "## Find a particular node by name\n",
    "[d] = ont.search('Acanthosis nigricans')"
   ]
  },
  {
   "cell_type": "code",
   "execution_count": 7,
   "metadata": {},
   "outputs": [
    {
     "data": {
      "text/plain": [
       "{'http://purl.obolibrary.org/obo/UMLS_C0011603',\n",
       " 'http://purl.obolibrary.org/obo/UMLS_C0012634',\n",
       " 'http://purl.obolibrary.org/obo/UMLS_C0037274',\n",
       " 'http://purl.obolibrary.org/obo/UMLS_C1333305',\n",
       " 'http://purl.obolibrary.org/obo/UMLS_C1335042',\n",
       " 'http://purl.obolibrary.org/obo/UMLS_C1709246',\n",
       " 'http://purl.obolibrary.org/obo/UMLS_C1709247'}"
      ]
     },
     "execution_count": 7,
     "metadata": {},
     "output_type": "execute_result"
    }
   ],
   "source": [
    "ancs = ont.ancestors(d, 'subClassOf')\n",
    "ancs"
   ]
  },
  {
   "cell_type": "code",
   "execution_count": 8,
   "metadata": {},
   "outputs": [],
   "source": [
    "ancs.add(d)\n",
    "subont = ont.subontology(ancs, relations=['subClassOf'])\n"
   ]
  },
  {
   "cell_type": "code",
   "execution_count": 9,
   "metadata": {
    "collapsed": true
   },
   "outputs": [],
   "source": [
    "from ontobio.io.ontol_renderers import GraphRenderer\n",
    "w = GraphRenderer.create('png')\n",
    "w.outfile = \"output/acanth.png\"\n",
    "w.write(subont, query_ids=[d])"
   ]
  },
  {
   "cell_type": "code",
   "execution_count": null,
   "metadata": {
    "collapsed": true
   },
   "outputs": [],
   "source": [
    "w = GraphRenderer.create('png')"
   ]
  },
  {
   "cell_type": "markdown",
   "metadata": {
    "collapsed": true
   },
   "source": [
    "![img](output/acanth.png)"
   ]
  },
  {
   "cell_type": "code",
   "execution_count": 22,
   "metadata": {},
   "outputs": [
    {
     "name": "stdout",
     "output_type": "stream",
     "text": [
      "98426\n"
     ]
    },
    {
     "data": {
      "text/plain": [
       "['Generalized enamel hypoplasia associated with ingestion of drugs',\n",
       " 'Localized lipodystrophy',\n",
       " 'Ectrodactyly-polydactyly syndrome',\n",
       " 'Malignant tumor involving right ovary by direct extension from left ovary',\n",
       " 'Hereditary hypotrichosis with recurrent skin vesicles',\n",
       " 'Ichthyosis hystrix',\n",
       " 'Interstitial Pregnancy',\n",
       " 'Malignant neoplasm of cartilage of trachea',\n",
       " 'Dietetic ileitis',\n",
       " 'Subacute autoimmune thyroiditis',\n",
       " 'Giant cell epulis']"
      ]
     },
     "execution_count": 22,
     "metadata": {},
     "output_type": "execute_result"
    }
   ],
   "source": [
    "isaG = ont.get_filtered_graph(relations=['subClassOf'])\n",
    " \n",
    "                               \n",
    "def is_singleton(g, n):\n",
    "    return len(g.predecessors(n)) == 0 and len(g.successors(n)) == 0\n",
    "\n",
    "singletons = [n for n in isaG.nodes() if is_singleton(isaG,n)]\n",
    "\n",
    "print(len(singletons))\n",
    "[ont.label(x) for x in singletons[0:20] if ont.label(x) is not None]\n"
   ]
  },
  {
   "cell_type": "code",
   "execution_count": 37,
   "metadata": {},
   "outputs": [
    {
     "data": {
      "text/plain": [
       "['OMIM:306800']"
      ]
     },
     "execution_count": 37,
     "metadata": {},
     "output_type": "execute_result"
    }
   ],
   "source": [
    "def omim_xrefs(c):\n",
    "    return [x for x in ont.xrefs(c) if x.startswith(\"OMIM:\")]\n",
    "\n",
    "HEM = 'HEMOPHILIA A WITH VASCULAR ABNORMALITY'\n",
    "[c] = ont.search(HEM)\n",
    "#singleton_omims = [x for  s in singletons for x in omim_xrefs(s) if s is not None ]\n",
    "#singleton_omims[0:100]\n",
    "ont.xrefs(c)\n",
    "omim_xrefs(c)"
   ]
  },
  {
   "cell_type": "code",
   "execution_count": 51,
   "metadata": {},
   "outputs": [
    {
     "name": "stdout",
     "output_type": "stream",
     "text": [
      "9722\n"
     ]
    },
    {
     "data": {
      "text/plain": [
       "['OMIM:601536',\n",
       " 'OMIM:616723',\n",
       " 'OMIM:180040',\n",
       " 'OMIM:311895',\n",
       " 'OMIM:608363',\n",
       " 'OMIM:141405',\n",
       " 'OMIM:609948',\n",
       " 'OMIM:136350',\n",
       " 'OMIM:236900',\n",
       " 'OMIM:107290',\n",
       " 'OMIM:616839',\n",
       " 'OMIM:187330',\n",
       " 'OMIM:116300',\n",
       " 'OMIM:607600',\n",
       " 'OMIM:109740',\n",
       " 'OMIM:115400',\n",
       " 'OMIM:612163',\n",
       " 'OMIM:606693',\n",
       " 'OMIM:104225',\n",
       " 'OMIM:300226']"
      ]
     },
     "execution_count": 51,
     "metadata": {},
     "output_type": "execute_result"
    }
   ],
   "source": [
    "omim_orphans = set()\n",
    "for c in singletons:\n",
    "    omim_orphans.update( omim_xrefs(c) )\n",
    "omim_orphans = list(omim_orphans)\n",
    "print(len(omim_orphans))\n",
    "omim_orphans[0:20]"
   ]
  },
  {
   "cell_type": "code",
   "execution_count": 36,
   "metadata": {},
   "outputs": [
    {
     "data": {
      "text/plain": [
       "'http://purl.obolibrary.org/obo/UMLS_C1844137'"
      ]
     },
     "execution_count": 36,
     "metadata": {},
     "output_type": "execute_result"
    }
   ],
   "source": [
    "c"
   ]
  },
  {
   "cell_type": "markdown",
   "metadata": {},
   "source": [
    "## Load mondo\n",
    "\n",
    "First we map the PURLs used in MonDO to the CURIEs used in MedGen"
   ]
  },
  {
   "cell_type": "code",
   "execution_count": 65,
   "metadata": {},
   "outputs": [
    {
     "data": {
      "text/plain": [
       "'http://purl.obolibrary.org/obo/OMIM_1'"
      ]
     },
     "execution_count": 65,
     "metadata": {},
     "output_type": "execute_result"
    }
   ],
   "source": [
    "import prefixcommons\n",
    "prefixcommons.curie_util.default_curie_maps\n",
    "prefixcommons.curie_util.default_curie_maps[0]['OMIM'] = 'http://purl.obolibrary.org/obo/OMIM_'\n",
    "prefixcommons.curie_util.expand_uri(\"OMIM:1\")"
   ]
  },
  {
   "cell_type": "code",
   "execution_count": 66,
   "metadata": {
    "collapsed": true
   },
   "outputs": [],
   "source": [
    "mondo = ofactory.create(\"mondo.json\")"
   ]
  },
  {
   "cell_type": "markdown",
   "metadata": {},
   "source": [
    "## Finding an OMIM class in MonDO\n",
    "\n",
    "we define a lookup function"
   ]
  },
  {
   "cell_type": "code",
   "execution_count": 67,
   "metadata": {},
   "outputs": [
    {
     "data": {
      "text/plain": [
       "['OMIM:601536']"
      ]
     },
     "execution_count": 67,
     "metadata": {},
     "output_type": "execute_result"
    }
   ],
   "source": [
    "def lookup(omim_id):\n",
    "    if omim_id in mondo.get_graph().nodes():\n",
    "        return [omim_id]\n",
    "    else:\n",
    "        if omim_id in mondo.xref_graph:\n",
    "            return mondo.xref_graph.neighbors(omim_id)\n",
    "        else:\n",
    "            return []\n",
    "lookup(omim_orphans[0])\n"
   ]
  },
  {
   "cell_type": "code",
   "execution_count": 103,
   "metadata": {},
   "outputs": [
    {
     "data": {
      "text/plain": [
       "['OMIM:601536',\n",
       " 'OMIM:616723',\n",
       " 'OMIM:311895',\n",
       " 'OMIM:608363',\n",
       " 'OMIM:141405',\n",
       " 'OMIM:236900',\n",
       " 'OMIM:107290']"
      ]
     },
     "execution_count": 103,
     "metadata": {},
     "output_type": "execute_result"
    }
   ],
   "source": [
    "[y for x in omim_orphans[0:10] for y in lookup(x) ]"
   ]
  },
  {
   "cell_type": "code",
   "execution_count": 104,
   "metadata": {},
   "outputs": [
    {
     "data": {
      "text/plain": [
       "'http://purl.obolibrary.org/obo/UMLS_C4225246'"
      ]
     },
     "execution_count": 104,
     "metadata": {},
     "output_type": "execute_result"
    }
   ],
   "source": [
    "## Find CMT4K in MedGen\n",
    "CMT4K = 'CHARCOT-MARIE-TOOTH DISEASE, TYPE 4K'\n",
    "[x] = ont.search(CMT4K)\n",
    "x"
   ]
  },
  {
   "cell_type": "code",
   "execution_count": 110,
   "metadata": {},
   "outputs": [
    {
     "data": {
      "text/plain": [
       "True"
      ]
     },
     "execution_count": 110,
     "metadata": {},
     "output_type": "execute_result"
    }
   ],
   "source": [
    "## Check that this is an orphan\n",
    "is_singleton(isaG, x)"
   ]
  },
  {
   "cell_type": "code",
   "execution_count": 114,
   "metadata": {},
   "outputs": [
    {
     "data": {
      "text/plain": [
       "['OMIM:616684', 'OMIM:185620']"
      ]
     },
     "execution_count": 114,
     "metadata": {},
     "output_type": "execute_result"
    }
   ],
   "source": [
    "## Lookup OMIM xrefs in MedGen\n",
    "omims = omim_xrefs(x)\n",
    "omims"
   ]
  },
  {
   "cell_type": "code",
   "execution_count": 126,
   "metadata": {},
   "outputs": [
    {
     "data": {
      "text/plain": [
       "['OMIM:616684']"
      ]
     },
     "execution_count": 126,
     "metadata": {},
     "output_type": "execute_result"
    }
   ],
   "source": [
    "## Map omim xrefs to MonDO IDs (either equivalent or close)\n",
    "mondo_ids = []\n",
    "for x in omims:\n",
    "    mondo_ids = mondo_ids + lookup(x)\n",
    "mondo_ids"
   ]
  },
  {
   "cell_type": "code",
   "execution_count": 117,
   "metadata": {},
   "outputs": [],
   "source": [
    "ancs = mondo.traverse_nodes(mondo_ids, relations='subClassOf')\n",
    "subont = mondo.subontology(ancs)\n",
    "w.outfile = \"output/mondo-cmt4k.png\"\n",
    "w.write(subont, query_ids=mondo_ids)"
   ]
  },
  {
   "cell_type": "markdown",
   "metadata": {},
   "source": [
    "As can be seen, the OMIM ID for CMT4K has been *patched in* to a hierarchy woven from Orphanet and DOID\n",
    "\n",
    "![img](output/mondo-cmt4k.png)"
   ]
  },
  {
   "cell_type": "markdown",
   "metadata": {},
   "source": [
    "## Dynamic Mapping"
   ]
  },
  {
   "cell_type": "code",
   "execution_count": 128,
   "metadata": {},
   "outputs": [
    {
     "data": {
      "text/plain": [
       "['http://purl.obolibrary.org/obo/UMLS_C0010278',\n",
       " 'http://purl.obolibrary.org/obo/UMLS_CN241055']"
      ]
     },
     "execution_count": 128,
     "metadata": {},
     "output_type": "execute_result"
    }
   ],
   "source": [
    "Craniosynostosis = 'Craniosynostosis'\n",
    "matches = ont.search(Craniosynostosis)\n",
    "matches"
   ]
  },
  {
   "cell_type": "code",
   "execution_count": 131,
   "metadata": {},
   "outputs": [],
   "source": [
    "ancs = ont.traverse_nodes(matches, relations='subClassOf')\n",
    "subont = ont.subontology(ancs)\n",
    "w.outfile = \"output/medgen-crn.png\"\n",
    "w.write(subont, query_ids=matches)"
   ]
  },
  {
   "cell_type": "markdown",
   "metadata": {},
   "source": [
    "![img](output/medgen-crn.png)"
   ]
  },
  {
   "cell_type": "code",
   "execution_count": null,
   "metadata": {
    "collapsed": true
   },
   "outputs": [],
   "source": []
  }
 ],
 "metadata": {
  "kernelspec": {
   "display_name": "Python 3",
   "language": "python",
   "name": "python3"
  },
  "language_info": {
   "codemirror_mode": {
    "name": "ipython",
    "version": 3
   },
   "file_extension": ".py",
   "mimetype": "text/x-python",
   "name": "python",
   "nbconvert_exporter": "python",
   "pygments_lexer": "ipython3",
   "version": "3.5.2"
  }
 },
 "nbformat": 4,
 "nbformat_minor": 2
}
